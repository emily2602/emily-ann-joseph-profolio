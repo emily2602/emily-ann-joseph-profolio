{
  "cells": [
    {
      "cell_type": "markdown",
      "id": "26550237-15cd-45e2-81e1-556bad05a917",
      "metadata": {
        "id": "26550237-15cd-45e2-81e1-556bad05a917"
      },
      "source": [
        "# Activity 3: Practicing with Pandas"
      ]
    },
    {
      "cell_type": "markdown",
      "id": "4765796a-69ae-4a80-9529-2843912df581",
      "metadata": {
        "id": "4765796a-69ae-4a80-9529-2843912df581"
      },
      "source": [
        "For this activity, we will assume the role of a data scientist in the search for and evaluation of public datasets. In turn, pay close attention to the dataset you choose for counter narratives or nonapparent political values, gaps or underrepresented perspectives.\n",
        "\n",
        "Please make sure you open this file in Jupyter Notebook or Google Colab -- you will have to either open Jupyter Notebook first or upload the file to Google Colab before being able to edit the file.\n",
        "\n",
        "Please make sure you **print your output.** You may need to use ```print``` for your output to be displayed.\n",
        "\n",
        "-----\n",
        "## Submission Instructions\n",
        "1. Upload the completed activity to the \"Activities\" folder of your GitHub Portfolio;\n",
        "2. Ensure your submission consists of two files: <br/>(a) one single-page reflection in markdown (e.g. `a3_reflection.md`);  <br/>(b) one Jupyter notebook with completed responses to each activity step (e.g. `a3_pandas.ipynb`)."
      ]
    },
    {
      "cell_type": "markdown",
      "id": "b87c910a-66ee-4166-9737-546b68d3e61e",
      "metadata": {
        "id": "b87c910a-66ee-4166-9737-546b68d3e61e"
      },
      "source": [
        "## Data biography: Trans-Atlantic Slave Trade dataset\n",
        "\n",
        "To complete the assignment, please make sure you download the dataset from where it hosted on our GitHub: [Trans-Atlantic-Slave-Trade_Americas.csv](https://github.com/zmuhls/ccny-data-science/blob/main/assets/datasets/Trans-Atlantic-Slave-Trade_Americas.csv)"
      ]
    },
    {
      "cell_type": "markdown",
      "id": "8749ea10-27e1-4210-b638-abe62a45f609",
      "metadata": {
        "id": "8749ea10-27e1-4210-b638-abe62a45f609"
      },
      "source": [
        "## Data Biography (1-2 Paragraphs)\n",
        "\n",
        "Before you begin your exploration, you will provide a short data biography (1 - 2 paragraphs) on the dataset that addresses **where the data came from, who collected it, and the original intention(s) for its collection.**\n",
        "\n",
        "You may find the following sources useful for your research:\n",
        "* [Slave Voyages' Trans-Atlantic Slave Trade methodology](https://www.slavevoyages.org/voyage/about#methodology/introduction/0/en/)\n",
        "    * You may find the sections: Introduction, Coverage of the Slave Trade, and Nature of Sources particularly useful.\n",
        "* [Slave Voyages' About](https://www.slavevoyages.org/about/about#)\n",
        "* [Jamelle Bouie's We Still Can’t See American Slavery for What It Was](https://csc10800.github.io/assets/pdf/Bouie_we_still_cant_see_american_slavery_for_what_it_is.pdf)"
      ]
    },
    {
      "cell_type": "markdown",
      "id": "a40ee643-dbe8-4059-8953-95c11f938235",
      "metadata": {
        "jp-MarkdownHeadingCollapsed": true,
        "id": "a40ee643-dbe8-4059-8953-95c11f938235"
      },
      "source": [
        "**Enclose Data Biography below (1-2 Paragraph)\n",
        "\n",
        "*   List item\n",
        "*   List item\n",
        "\n",
        "**:\n"
      ]
    },
    {
      "cell_type": "markdown",
      "id": "1dc86a86-51b2-4bcf-8ad4-18901364e363",
      "metadata": {
        "id": "1dc86a86-51b2-4bcf-8ad4-18901364e363"
      },
      "source": [
        "-----"
      ]
    },
    {
      "cell_type": "markdown",
      "id": "4769c8e1-a906-4f5d-9b34-0ab30e613d81",
      "metadata": {
        "id": "4769c8e1-a906-4f5d-9b34-0ab30e613d81"
      },
      "source": [
        "## Download and explore dataset\n",
        "\n",
        "As we have been practicing in class, the questions that follow will require you to consider what output you will need before running the appropriate python codes.\n",
        "\n",
        "To ensure your code runs, please remember to load ```pandas``` and the ```Trans-Atlantic-Slave-Trade_Americas.csv``` file into the jupyter notebook environment.\n",
        "\n",
        "If you are running this on Google Colab, please make sure you connect your google drive with your Colab notebook first before attempting the exercise:\n",
        "```\n",
        "from google.colab import drive\n",
        "drive.mount('/content/drive')\n",
        "```"
      ]
    },
    {
      "cell_type": "code",
      "execution_count": null,
      "id": "c79198e7-340c-4f70-bdb6-4bc50750a6f3",
      "metadata": {
        "id": "c79198e7-340c-4f70-bdb6-4bc50750a6f3"
      },
      "outputs": [],
      "source": [
        "# Your code here"
      ]
    },
    {
      "cell_type": "markdown",
      "id": "1dd42939-8b33-40be-9633-877c4142dcdb",
      "metadata": {
        "id": "1dd42939-8b33-40be-9633-877c4142dcdb"
      },
      "source": [
        "### 2. How many rows of data does the dataset contain?</br>\n",
        "In this first step, you’ll load the dataset and examine its structure. Loading data is foundational in data science and digital humanities workflows. You’ll use the `pandas` library to read a CSV file and display its first few rows.</br>\n",
        "* **Hint**: See Melanie Walsh's chapter on Pandas Basics if you're stuck: [Pandas Basics – Part 1](https://melaniewalsh.github.io/Intro-Cultural-Analytics/03-Data-Analysis/01-Pandas-Basics-Part1.html)).\n",
        "\n"
      ]
    },
    {
      "cell_type": "code",
      "execution_count": 2,
      "id": "a3afd56e-4d46-4d01-be8b-a65380a1f681",
      "metadata": {
        "id": "a3afd56e-4d46-4d01-be8b-a65380a1f681",
        "colab": {
          "base_uri": "https://localhost:8080/"
        },
        "outputId": "3ba1b7eb-f309-42ec-9cb7-74da780cfbcd"
      },
      "outputs": [
        {
          "output_type": "stream",
          "name": "stdout",
          "text": [
            "Number of rows in the dataset: 20779\n"
          ]
        }
      ],
      "source": [
        "import pandas as pd\n",
        "\n",
        "# Load the dataset\n",
        "url = \"https://raw.githubusercontent.com/zmuhls/ccny-data-science/main/assets/datasets/Trans-Atlantic-Slave-Trade_Americas.csv\"\n",
        "data = pd.read_csv(url)\n",
        "\n",
        "# Get the number of rows\n",
        "num_rows = data.shape[0]\n",
        "\n",
        "# Print the result\n",
        "print(\"Number of rows in the dataset:\", num_rows)\n"
      ]
    },
    {
      "cell_type": "code",
      "source": [],
      "metadata": {
        "id": "-ti2GqO5iXHp"
      },
      "id": "-ti2GqO5iXHp",
      "execution_count": null,
      "outputs": []
    },
    {
      "cell_type": "markdown",
      "id": "91143422-e360-4be0-8bae-afd42d835260",
      "metadata": {
        "id": "91143422-e360-4be0-8bae-afd42d835260"
      },
      "source": [
        "**Number of rows in the dataset: 20779**     \n",
        "\n",
        "</br>\n",
        "</br>\n",
        "</br>\n",
        "\n",
        "---\n"
      ]
    },
    {
      "cell_type": "markdown",
      "id": "141f7b97-6853-4382-9bca-12be87c446b3",
      "metadata": {
        "id": "141f7b97-6853-4382-9bca-12be87c446b3"
      },
      "source": [
        "### 3. Are the data types for each column appropriate? Please explain how they are/not approrpiate for your analysis."
      ]
    },
    {
      "cell_type": "markdown",
      "id": "bab74918-52ee-4c6d-80da-b7370081e52d",
      "metadata": {
        "id": "bab74918-52ee-4c6d-80da-b7370081e52d"
      },
      "source": [
        "The data types for each column are mostly fine, but some could be adjusted depending on what we need to do with them. For example:\n",
        "\n",
        "~If there are any numeric columns stored as strings (like population or numbers), they’d need to be converted to integers or floats to do calculations.\n",
        "~Date columns, if they exist, should be in a proper datetime format so we can easily filter or analyze them by time.\n",
        "Categorical data, like regions or countries, might be better stored as a \"category\" type to save memory and make processing faster.\n",
        "~Overall, the data types might work as is for basic analysis, but we’d need to check them based on what kind of analysis we’re doing."
      ]
    },
    {
      "cell_type": "markdown",
      "id": "37658740-c9ca-465f-a3d0-a33da65ecb91",
      "metadata": {
        "id": "37658740-c9ca-465f-a3d0-a33da65ecb91"
      },
      "source": [
        "### 4. What is the overall average proportion of ```percent_women```, ```percent_children```, ```percent_men```?"
      ]
    },
    {
      "cell_type": "code",
      "execution_count": 4,
      "id": "a3b3b700-8339-49c2-9ca1-f35858f86e7e",
      "metadata": {
        "id": "a3b3b700-8339-49c2-9ca1-f35858f86e7e",
        "colab": {
          "base_uri": "https://localhost:8080/"
        },
        "outputId": "21402cb3-fe3f-4aa4-ec56-3dc126d4fc29"
      },
      "outputs": [
        {
          "output_type": "stream",
          "name": "stdout",
          "text": [
            "Average Proportion of Women: 0.27409773997457043\n",
            "Average Proportion of Children: 0.23153138034413165\n",
            "Average Proportion of Men: 0.4970504753391753\n"
          ]
        }
      ],
      "source": [
        "average_percent_women = data['percent_women'].mean()\n",
        "average_percent_children = data['percent_children'].mean()\n",
        "average_percent_men = data['percent_men'].mean()\n",
        "\n",
        "# Print the results\n",
        "print(\"Average Proportion of Women:\", average_percent_women)\n",
        "print(\"Average Proportion of Children:\", average_percent_children)\n",
        "print(\"Average Proportion of Men:\", average_percent_men)\n"
      ]
    },
    {
      "cell_type": "markdown",
      "id": "b4e966c1-1247-4cbc-9a74-0553469d9beb",
      "metadata": {
        "id": "b4e966c1-1247-4cbc-9a74-0553469d9beb"
      },
      "source": [
        "**Double click to edit cell**     \n",
        "`Please type your answer here`\n",
        "</br>\n",
        "</br>\n",
        "</br>\n",
        "\n",
        "\n",
        "---\n"
      ]
    },
    {
      "cell_type": "markdown",
      "id": "8b2269c7-c46c-44bb-8333-1d8ba9022a61",
      "metadata": {
        "id": "8b2269c7-c46c-44bb-8333-1d8ba9022a61"
      },
      "source": [
        "### 5. How many of the column values for ```percent_women```, ```percent_children```, ```percent_men``` are left blank? Suggest 1 reason why majority of the values in these columns are blank."
      ]
    },
    {
      "cell_type": "code",
      "execution_count": 5,
      "id": "a224a0e4-0e56-40f9-aa41-094882deb499",
      "metadata": {
        "id": "a224a0e4-0e56-40f9-aa41-094882deb499",
        "colab": {
          "base_uri": "https://localhost:8080/"
        },
        "outputId": "01b4664b-1a15-4d52-afae-716d404dcd0c"
      },
      "outputs": [
        {
          "output_type": "stream",
          "name": "stdout",
          "text": [
            "Number of blank values in percent_women: 17869\n",
            "Number of blank values in percent_children: 17831\n",
            "Number of blank values in percent_men: 17869\n"
          ]
        }
      ],
      "source": [
        "# Count the number of missing (blank) values in each column\n",
        "missing_percent_women = data['percent_women'].isnull().sum()\n",
        "missing_percent_children = data['percent_children'].isnull().sum()\n",
        "missing_percent_men = data['percent_men'].isnull().sum()\n",
        "\n",
        "# Print the results\n",
        "print(\"Number of blank values in percent_women:\", missing_percent_women)\n",
        "print(\"Number of blank values in percent_children:\", missing_percent_children)\n",
        "print(\"Number of blank values in percent_men:\", missing_percent_men)\n"
      ]
    },
    {
      "cell_type": "markdown",
      "id": "23d4de2a-aa0d-4165-bac4-1b53a8ee2030",
      "metadata": {
        "id": "23d4de2a-aa0d-4165-bac4-1b53a8ee2030"
      },
      "source": [
        "**A lot of these are probably blank because they didn’t bother recording the exact breakdowns back then. They were more focused on overall numbers and might not have cared enough about the details, or the info just wasn’t available. Record-keeping wasn’t super reliable in that era.**\n",
        "\n",
        "\n",
        "\n",
        "</br>\n",
        "</br>\n",
        "</br>\n",
        "\n",
        "---\n"
      ]
    },
    {
      "cell_type": "markdown",
      "id": "43584358-9a8f-45a5-8383-5bf823d8c9be",
      "metadata": {
        "id": "43584358-9a8f-45a5-8383-5bf823d8c9be"
      },
      "source": [
        "### 6. Display all duplicated rows and remove the duplicates. Check that the duplicates were successfully removed. Please also suggest a reason why we would remove duplicates for our analysis.\n",
        "\n",
        "**Level-up**: How many duplicated rows do we have? Recall the methods we have used to help us count things."
      ]
    },
    {
      "cell_type": "code",
      "execution_count": 6,
      "id": "6fffb099-3bb0-47d9-a75b-d5255d89ab7a",
      "metadata": {
        "id": "6fffb099-3bb0-47d9-a75b-d5255d89ab7a",
        "colab": {
          "base_uri": "https://localhost:8080/"
        },
        "outputId": "3f04c5f1-282c-4f00-f926-cd9f9a6b31b9"
      },
      "outputs": [
        {
          "output_type": "stream",
          "name": "stdout",
          "text": [
            "Duplicated rows:\n",
            "       year_of_arrival              flag  \\\n",
            "213               1577               NaN   \n",
            "214               1577               NaN   \n",
            "215               1577               NaN   \n",
            "283               1586               NaN   \n",
            "285               1586               NaN   \n",
            "286               1586               NaN   \n",
            "769               1602               NaN   \n",
            "770               1602               NaN   \n",
            "1665              1654     Great Britain   \n",
            "1666              1654     Great Britain   \n",
            "1667              1654     Great Britain   \n",
            "9842              1763       Netherlands   \n",
            "9843              1763       Netherlands   \n",
            "9844              1763       Netherlands   \n",
            "9845              1763       Netherlands   \n",
            "10356             1765            France   \n",
            "10357             1765            France   \n",
            "10358             1765            France   \n",
            "10880             1767            France   \n",
            "10881             1767            France   \n",
            "10882             1767            France   \n",
            "14574             1788     Great Britain   \n",
            "14575             1788     Great Britain   \n",
            "14576             1788     Great Britain   \n",
            "14577             1788     Great Britain   \n",
            "14578             1788     Great Britain   \n",
            "14643             1789            U.S.A.   \n",
            "14644             1789            U.S.A.   \n",
            "14645             1789            U.S.A.   \n",
            "16222             1797            U.S.A.   \n",
            "16223             1797            U.S.A.   \n",
            "16224             1797            U.S.A.   \n",
            "16225             1797            U.S.A.   \n",
            "16226             1797            U.S.A.   \n",
            "16227             1797            U.S.A.   \n",
            "16490             1798  Denmark / Baltic   \n",
            "16491             1798  Denmark / Baltic   \n",
            "16492             1798  Denmark / Baltic   \n",
            "\n",
            "                                       place_of_purchase  \\\n",
            "213                                   Cape Verde Islands   \n",
            "214                                   Cape Verde Islands   \n",
            "215                                   Cape Verde Islands   \n",
            "283    Senegambia and offshore Atlantic, port unspeci...   \n",
            "285    Senegambia and offshore Atlantic, port unspeci...   \n",
            "286    Senegambia and offshore Atlantic, port unspeci...   \n",
            "769    West Central Africa and St. Helena, port unspe...   \n",
            "770    West Central Africa and St. Helena, port unspe...   \n",
            "1665                                               Ardra   \n",
            "1666                                               Ardra   \n",
            "1667                                               Ardra   \n",
            "9842                                          Cape Lahou   \n",
            "9843                                          Cape Lahou   \n",
            "9844                                          Cape Lahou   \n",
            "9845                                          Cape Lahou   \n",
            "10356                                        Badagry/Apa   \n",
            "10357                                        Badagry/Apa   \n",
            "10358                                        Badagry/Apa   \n",
            "10880                                            Calabar   \n",
            "10881                                            Calabar   \n",
            "10882                                            Calabar   \n",
            "14574                                        New Calabar   \n",
            "14575                                        New Calabar   \n",
            "14576                                        New Calabar   \n",
            "14577                                        New Calabar   \n",
            "14578                                        New Calabar   \n",
            "14643                          Africa., port unspecified   \n",
            "14644                          Africa., port unspecified   \n",
            "14645                          Africa., port unspecified   \n",
            "16222                                        Iles de Los   \n",
            "16223                                        Iles de Los   \n",
            "16224                                        Iles de Los   \n",
            "16225                                        Iles de Los   \n",
            "16226                                        Iles de Los   \n",
            "16227                                        Iles de Los   \n",
            "16490                          Africa., port unspecified   \n",
            "16491                          Africa., port unspecified   \n",
            "16492                          Africa., port unspecified   \n",
            "\n",
            "                           place_of_landing  percent_women  percent_children  \\\n",
            "213    Spanish Circum-Caribbean,unspecified            NaN               NaN   \n",
            "214    Spanish Circum-Caribbean,unspecified            NaN               NaN   \n",
            "215    Spanish Circum-Caribbean,unspecified            NaN               NaN   \n",
            "283                               New Spain            NaN               NaN   \n",
            "285                               New Spain            NaN               NaN   \n",
            "286                               New Spain            NaN               NaN   \n",
            "769                            Buenos Aires            NaN               NaN   \n",
            "770                            Buenos Aires            NaN               NaN   \n",
            "1665             Barbados, port unspecified            NaN               NaN   \n",
            "1666             Barbados, port unspecified            NaN               NaN   \n",
            "1667             Barbados, port unspecified            NaN               NaN   \n",
            "9842                               Suriname        0.48077           0.05385   \n",
            "9843                               Suriname        0.48077           0.05385   \n",
            "9844                               Suriname        0.48077           0.05385   \n",
            "9845                               Suriname        0.48077           0.05385   \n",
            "10356          Martinique, port unspecified        0.43220           0.18644   \n",
            "10357          Martinique, port unspecified        0.43220           0.18644   \n",
            "10358          Martinique, port unspecified        0.43220           0.18644   \n",
            "10880                           Cayes (Les)        0.26957           0.55652   \n",
            "10881                           Cayes (Les)        0.26957           0.55652   \n",
            "10882                           Cayes (Les)        0.26957           0.55652   \n",
            "14574                              Kingston            NaN           0.38581   \n",
            "14575                              Kingston            NaN           0.38581   \n",
            "14576                              Kingston            NaN           0.38581   \n",
            "14577                              Kingston            NaN           0.38581   \n",
            "14578                              Kingston            NaN           0.38581   \n",
            "14643      West Indies (colony unspecified)            NaN               NaN   \n",
            "14644      West Indies (colony unspecified)            NaN               NaN   \n",
            "14645      West Indies (colony unspecified)            NaN               NaN   \n",
            "16222                                Havana        0.01136           0.05682   \n",
            "16223                                Havana        0.01136           0.05682   \n",
            "16224                                Havana        0.01136           0.05682   \n",
            "16225                                Havana        0.01136           0.05682   \n",
            "16226                                Havana        0.01136           0.05682   \n",
            "16227                                Havana        0.01136           0.05682   \n",
            "16490                              Suriname            NaN               NaN   \n",
            "16491                              Suriname            NaN               NaN   \n",
            "16492                              Suriname            NaN               NaN   \n",
            "\n",
            "       percent_men  total_embarked  total_disembarked    resistance_label  \\\n",
            "213            NaN           347.0              278.0                 NaN   \n",
            "214            NaN           347.0              278.0                 NaN   \n",
            "215            NaN           347.0              278.0                 NaN   \n",
            "283            NaN           498.0              398.0                 NaN   \n",
            "285            NaN           498.0              398.0                 NaN   \n",
            "286            NaN           498.0              398.0                 NaN   \n",
            "769            NaN            49.0               39.0                 NaN   \n",
            "770            NaN            49.0               39.0                 NaN   \n",
            "1665           NaN           150.0              129.0                 NaN   \n",
            "1666           NaN           150.0              129.0                 NaN   \n",
            "1667           NaN           150.0              129.0                 NaN   \n",
            "9842       0.46538           263.0              260.0  Slave insurrection   \n",
            "9843       0.46538           263.0              260.0  Slave insurrection   \n",
            "9844       0.46538           263.0              260.0  Slave insurrection   \n",
            "9845       0.46538           263.0              260.0  Slave insurrection   \n",
            "10356      0.38136           196.0              118.0                 NaN   \n",
            "10357      0.38136           196.0              118.0                 NaN   \n",
            "10358      0.38136           196.0              118.0                 NaN   \n",
            "10880      0.17391           207.0              133.0                 NaN   \n",
            "10881      0.17391           207.0              133.0                 NaN   \n",
            "10882      0.17391           207.0              133.0                 NaN   \n",
            "14574          NaN           531.0              466.0                 NaN   \n",
            "14575          NaN           531.0              466.0                 NaN   \n",
            "14576          NaN           531.0              466.0                 NaN   \n",
            "14577          NaN           531.0              466.0                 NaN   \n",
            "14578          NaN           531.0              466.0                 NaN   \n",
            "14643          NaN           147.0              130.0                 NaN   \n",
            "14644          NaN           147.0              130.0                 NaN   \n",
            "14645          NaN           147.0              130.0                 NaN   \n",
            "16222      0.93182           103.0               92.0                 NaN   \n",
            "16223      0.93182           103.0               92.0                 NaN   \n",
            "16224      0.93182           103.0               92.0                 NaN   \n",
            "16225      0.93182           103.0               92.0                 NaN   \n",
            "16226      0.93182           103.0               92.0                 NaN   \n",
            "16227      0.93182           103.0               92.0                 NaN   \n",
            "16490          NaN           310.0              266.0                 NaN   \n",
            "16491          NaN           310.0              266.0                 NaN   \n",
            "16492          NaN           310.0              266.0                 NaN   \n",
            "\n",
            "               vessel_name                                     captain's_name  \\\n",
            "213              S Antonio                                      Alvarez, Juan   \n",
            "214              S Antonio                                      Alvarez, Juan   \n",
            "215              S Antonio                                      Alvarez, Juan   \n",
            "283                                                           Ruiz, Francisco   \n",
            "285                                                           Ruiz, Francisco   \n",
            "286                                                           Ruiz, Francisco   \n",
            "769            S Francisco                                  Jacome, Francisco   \n",
            "770            S Francisco                                  Jacome, Francisco   \n",
            "1665                  Star                                               Dean   \n",
            "1666                  Star                                               Dean   \n",
            "1667                  Star                                               Dean   \n",
            "9842   Vrouw Johanna Cores  Tuijneman, Jan<br/> Molder, Willem de<br/> Bre...   \n",
            "9843   Vrouw Johanna Cores  Tuijneman, Jan<br/> Molder, Willem de<br/> Bre...   \n",
            "9844   Vrouw Johanna Cores  Tuijneman, Jan<br/> Molder, Willem de<br/> Bre...   \n",
            "9845   Vrouw Johanna Cores  Tuijneman, Jan<br/> Molder, Willem de<br/> Bre...   \n",
            "10356        Reine de Juda                      Cormier de Bellevent, Laurent   \n",
            "10357        Reine de Juda                      Cormier de Bellevent, Laurent   \n",
            "10358        Reine de Juda                      Cormier de Bellevent, Laurent   \n",
            "10880            Algonquin                      Richard de Villemin, Athanase   \n",
            "10881            Algonquin                      Richard de Villemin, Athanase   \n",
            "10882            Algonquin                      Richard de Villemin, Athanase   \n",
            "14574        African Queen                                       Taylor, Cobb   \n",
            "14575        African Queen                                       Taylor, Cobb   \n",
            "14576        African Queen                                       Taylor, Cobb   \n",
            "14577        African Queen                                       Taylor, Cobb   \n",
            "14578        African Queen                                       Taylor, Cobb   \n",
            "14643           Washington                                        Gardner, Wm   \n",
            "14644           Washington                                        Gardner, Wm   \n",
            "14645           Washington                                        Gardner, Wm   \n",
            "16222               Louisa                                     Briggs, Elijah   \n",
            "16223               Louisa                                     Briggs, Elijah   \n",
            "16224               Louisa                                     Briggs, Elijah   \n",
            "16225               Louisa                                     Briggs, Elijah   \n",
            "16226               Louisa                                     Briggs, Elijah   \n",
            "16227               Louisa                                     Briggs, Elijah   \n",
            "16490                Eliza                                               King   \n",
            "16491                Eliza                                               King   \n",
            "16492                Eliza                                               King   \n",
            "\n",
            "       voyage_id                                            sources  \n",
            "213        42638  [u'P\\xe9rez Garc\\xeda and Chaves, p. 620<><p>P...  \n",
            "214        42638  [u'P\\xe9rez Garc\\xeda and Chaves, p. 620<><p>P...  \n",
            "215        42638  [u'P\\xe9rez Garc\\xeda and Chaves, p. 620<><p>P...  \n",
            "283        42674  [u'Chaunus, 3: 380-91<><p>Chaunus, <em>xxxxxx<...  \n",
            "285        42674  [u'Chaunus, 3: 380-91<><p>Chaunus, <em>xxxxxx<...  \n",
            "286        42674  [u'Chaunus, 3: 380-91<><p>Chaunus, <em>xxxxxx<...  \n",
            "769        42929  [u'AGI,Charcas.123,s/n, Certificazion de escla...  \n",
            "770        42929  [u'AGI,Charcas.123,s/n, Certificazion de escla...  \n",
            "1665       26435  [u'Binder:ARA, 1.05.01.01, 47<><p>Binder, Fran...  \n",
            "1666       26435  [u'Binder:ARA, 1.05.01.01, 47<><p>Binder, Fran...  \n",
            "1667       26435  [u'Binder:ARA, 1.05.01.01, 47<><p>Binder, Fran...  \n",
            "9842       11117  [u'Postma,166,304-401<>Postma, Johannes Menne,...  \n",
            "9843       11117  [u'Postma,166,304-401<>Postma, Johannes Menne,...  \n",
            "9844       11117  [u'Postma,166,304-401<>Postma, Johannes Menne,...  \n",
            "9845       11117  [u'Postma,166,304-401<>Postma, Johannes Menne,...  \n",
            "10356      33218  [u'mettas,II<>Mettas, Jean,  <i>R\\xe9pertoire ...  \n",
            "10357      33218  [u'mettas,II<>Mettas, Jean,  <i>R\\xe9pertoire ...  \n",
            "10358      33218  [u'mettas,II<>Mettas, Jean,  <i>R\\xe9pertoire ...  \n",
            "10880      30848  [u'mettas,I<>Mettas, Jean,  <i>R\\xe9pertoire d...  \n",
            "10881      30848  [u'mettas,I<>Mettas, Jean,  <i>R\\xe9pertoire d...  \n",
            "10882      30848  [u'mettas,I<>Mettas, Jean,  <i>R\\xe9pertoire d...  \n",
            "14574      80108  [u'ADM7/106, 33<><p><em>British National Archi...  \n",
            "14575      80108  [u'ADM7/106, 33<><p><em>British National Archi...  \n",
            "14576      80108  [u'ADM7/106, 33<><p><em>British National Archi...  \n",
            "14577      80108  [u'ADM7/106, 33<><p><em>British National Archi...  \n",
            "14578      80108  [u'ADM7/106, 33<><p><em>British National Archi...  \n",
            "14643      36559  [u'Coughtry, 241-85<><p>Coughtry, Jay, <em>The...  \n",
            "14644      36559  [u'Coughtry, 241-85<><p>Coughtry, Jay, <em>The...  \n",
            "14645      36559  [u'Coughtry, 241-85<><p>Coughtry, Jay, <em>The...  \n",
            "16222      36663  [u'Coughtry, 241-85<><p>Coughtry, Jay, <em>The...  \n",
            "16223      36663  [u'Coughtry, 241-85<><p>Coughtry, Jay, <em>The...  \n",
            "16224      36663  [u'Coughtry, 241-85<><p>Coughtry, Jay, <em>The...  \n",
            "16225      36663  [u'Coughtry, 241-85<><p>Coughtry, Jay, <em>The...  \n",
            "16226      36663  [u'Coughtry, 241-85<><p>Coughtry, Jay, <em>The...  \n",
            "16227      36663  [u'Coughtry, 241-85<><p>Coughtry, Jay, <em>The...  \n",
            "16490      97001  [u'LList, 25 Dec 1798<><i>Lloyds\\u2019 Lists (...  \n",
            "16491      97001  [u'LList, 25 Dec 1798<><i>Lloyds\\u2019 Lists (...  \n",
            "16492      97001  [u'LList, 25 Dec 1798<><i>Lloyds\\u2019 Lists (...  \n",
            "\n",
            "Number of duplicated rows: 38\n",
            "\n",
            "Number of duplicated rows after cleaning: 0\n"
          ]
        }
      ],
      "source": [
        "import pandas as pd\n",
        "\n",
        "duplicated_rows = data[data.duplicated()]\n",
        "print(\"Duplicated rows:\")\n",
        "print(duplicated_rows)\n",
        "\n",
        "num_duplicates = data.duplicated().sum()\n",
        "print(\"\\nNumber of duplicated rows:\", num_duplicates)\n",
        "\n",
        "data_cleaned = data.drop_duplicates()\n",
        "\n",
        "num_duplicates_after = data_cleaned.duplicated().sum()\n",
        "print(\"\\nNumber of duplicated rows after cleaning:\", num_duplicates_after)\n"
      ]
    },
    {
      "cell_type": "markdown",
      "id": "301e9714-6ce7-44cf-8bef-d497b30f511d",
      "metadata": {
        "id": "301e9714-6ce7-44cf-8bef-d497b30f511d"
      },
      "source": [
        "Duplicates can mess up your analysis by double-counting certain records. For example, if the same voyage appears twice, it can make averages, totals, or proportions look incorrect. Removing duplicates ensures your analysis reflects accurate, unique data.\n",
        "</br>\n",
        "\n",
        "\n",
        "---\n"
      ]
    },
    {
      "cell_type": "markdown",
      "id": "7ff8bfcd-4573-43a4-b58c-fb6d48516720",
      "metadata": {
        "id": "7ff8bfcd-4573-43a4-b58c-fb6d48516720"
      },
      "source": [
        "### 7. Please identify the **top 5 most common ports of arrival**.\n",
        "\n",
        "**Hint:** Check the columns ```place_of_landing```."
      ]
    },
    {
      "cell_type": "code",
      "execution_count": 8,
      "id": "56a1e1aa-7fb3-497c-8055-bd1a5deca2f7",
      "metadata": {
        "id": "56a1e1aa-7fb3-497c-8055-bd1a5deca2f7",
        "colab": {
          "base_uri": "https://localhost:8080/"
        },
        "outputId": "644601d4-b1a3-473e-c29c-c2ba0dbfaae5"
      },
      "outputs": [
        {
          "output_type": "stream",
          "name": "stdout",
          "text": [
            "Top 5 most common ports of arrival:\n",
            "place_of_landing\n",
            "Barbados, port unspecified    2041\n",
            "Jamaica, port unspecified     1715\n",
            "Kingston                      1627\n",
            "Havana                        1327\n",
            "Cap Francais                  1127\n",
            "Name: count, dtype: int64\n"
          ]
        }
      ],
      "source": [
        "# Step 1: Identify the top 5 most common ports of arrival\n",
        "top_ports = data['place_of_landing'].value_counts().head(5)\n",
        "\n",
        "# Step 2: Print the results\n",
        "print(\"Top 5 most common ports of arrival:\")\n",
        "print(top_ports)"
      ]
    },
    {
      "cell_type": "markdown",
      "id": "9bbe0198-c9b1-4527-9b3d-a09724730c4b",
      "metadata": {
        "id": "9bbe0198-c9b1-4527-9b3d-a09724730c4b"
      },
      "source": [
        "**Double click to edit cell**     \n",
        "`Please type your answer here`\n",
        "</br>\n",
        "</br>\n",
        "</br>\n",
        "\n",
        "---\n"
      ]
    },
    {
      "cell_type": "markdown",
      "id": "c19dd975-9347-41f5-86e8-992b7bd26591",
      "metadata": {
        "id": "c19dd975-9347-41f5-86e8-992b7bd26591"
      },
      "source": [
        "# 8. Please plot the top 5 enslavers/captors from this dataset. Please choose the appropriate visualization (e.g. pie chart, bar chart) to display your finding.\n",
        "\n"
      ]
    },
    {
      "cell_type": "code",
      "execution_count": 17,
      "id": "ab225554-bc39-4841-ac90-26ddca5cae0f",
      "metadata": {
        "id": "ab225554-bc39-4841-ac90-26ddca5cae0f",
        "colab": {
          "base_uri": "https://localhost:8080/"
        },
        "outputId": "061a4b88-8852-4bbd-e8f2-783bb002e49e"
      },
      "outputs": [
        {
          "output_type": "stream",
          "name": "stdout",
          "text": [
            "Available columns in the dataset:\n",
            "Index(['year_of_arrival', 'flag', 'place_of_purchase', 'place_of_landing',\n",
            "       'percent_women', 'percent_children', 'percent_men', 'total_embarked',\n",
            "       'total_disembarked', 'resistance_label', 'vessel_name',\n",
            "       'captain's_name', 'voyage_id', 'sources'],\n",
            "      dtype='object')\n",
            "\n",
            "Preview of the dataset:\n",
            "   year_of_arrival               flag   place_of_purchase  \\\n",
            "0             1520                NaN   Portuguese Guinea   \n",
            "1             1525  Portugal / Brazil            Sao Tome   \n",
            "2             1526    Spain / Uruguay  Cape Verde Islands   \n",
            "3             1526    Spain / Uruguay  Cape Verde Islands   \n",
            "4             1526                NaN  Cape Verde Islands   \n",
            "\n",
            "                 place_of_landing  percent_women  percent_children  \\\n",
            "0                        San Juan            NaN               NaN   \n",
            "1         Hispaniola, unspecified            NaN               NaN   \n",
            "2          Cuba, port unspecified            NaN               NaN   \n",
            "3          Cuba, port unspecified            NaN               NaN   \n",
            "4  Caribbean (colony unspecified)            NaN               NaN   \n",
            "\n",
            "   percent_men  total_embarked  total_disembarked resistance_label  \\\n",
            "0          NaN           324.0              259.0              NaN   \n",
            "1          NaN           359.0              287.0              NaN   \n",
            "2          NaN           359.0              287.0              NaN   \n",
            "3          NaN           359.0              287.0              NaN   \n",
            "4          NaN           359.0              287.0              NaN   \n",
            "\n",
            "         vessel_name       captain's_name  voyage_id  \\\n",
            "0                                     NaN      42987   \n",
            "1  S Maria de Bogoña       Monteiro, Pero      46473   \n",
            "2                     Carega, Esteban (?)      11297   \n",
            "3                     Carega, Esteban (?)      11298   \n",
            "4            S Anton        Leon, Juan de      42631   \n",
            "\n",
            "                                             sources  \n",
            "0  [u'AGI,Patronato 175, r.9<><p><em>AG!</em> (Se...  \n",
            "1  [u'ANTT,CC,Parte II, maco 131, doc 54<><i>Inst...  \n",
            "2  [u'Pike,60-1,172<>Pike, Ruth, <i>Enterprise</i...  \n",
            "3  [u'Pike,60-1,172<>Pike, Ruth, <i>Enterprise</i...  \n",
            "4  [u'Chaunus, 3: 162-63<><p>Chaunus, <em>xxxxxx<...  \n"
          ]
        }
      ],
      "source": [
        "import pandas as pd\n",
        "import matplotlib.pyplot as plt\n",
        "\n",
        "# Step 1: Load the dataset\n",
        "url = \"https://raw.githubusercontent.com/zmuhls/ccny-data-science/main/assets/datasets/Trans-Atlantic-Slave-Trade_Americas.csv\"\n",
        "data = pd.read_csv(url)\n",
        "\n",
        "# Step 2: Check available columns\n",
        "print(\"Available columns in the dataset:\")\n",
        "print(data.columns)\n",
        "\n",
        "# Step 3: Inspect the first few rows to understand the data\n",
        "print(\"\\nPreview of the dataset:\")\n",
        "print(data.head())\n",
        "\n",
        "# Step 4: Replace 'CORRECT_COLUMN_NAME' with the actual column name after inspecting the data\n",
        "# Uncomment and update the code below once you identify the correct column name\n",
        "# top_enslavers = data['CORRECT_COLUMN_NAME'].value_counts().head(5)\n",
        "\n",
        "# Uncomment to plot the data once the column name is identified\n",
        "# plt.figure(figsize=(8, 5))\n",
        "# top_enslavers.plot(kind='bar', color='skyblue')\n",
        "# plt.title(\"Top 5 Enslavers/Captors\", fontsize=16)\n",
        "# plt.xlabel(\"Enslavers/Captors\", fontsize=12)\n",
        "# plt.ylabel(\"Count\", fontsize=12)\n",
        "# plt.xticks(rotation=45)\n",
        "# plt.tight_layout()\n",
        "# plt.show()\n"
      ]
    },
    {
      "cell_type": "markdown",
      "id": "30b9934a-80f7-495e-bcb8-3210c57ce3a7",
      "metadata": {
        "id": "30b9934a-80f7-495e-bcb8-3210c57ce3a7"
      },
      "source": [
        "-----"
      ]
    },
    {
      "cell_type": "markdown",
      "id": "7e04fc1a-4956-4f0e-a90b-c5b2e1f66199",
      "metadata": {
        "id": "7e04fc1a-4956-4f0e-a90b-c5b2e1f66199"
      },
      "source": [
        "### 9. Having briefly explored the dataset, what further questions have emerged as you explored this dataset?    \n",
        "\n",
        "Please share your thoughts in a few sentences."
      ]
    },
    {
      "cell_type": "markdown",
      "id": "28712b05-f6a8-4a12-897c-949f96aaa466",
      "metadata": {
        "id": "28712b05-f6a8-4a12-897c-949f96aaa466"
      },
      "source": [
        "\n",
        "a few questions came to mind...\n",
        "\n",
        "\n",
        "*   Are there patterns or trends in the demographics (percentages of men, women, and children) across different ports of landing or over time?\n",
        "\n",
        "\n"
      ]
    },
    {
      "cell_type": "markdown",
      "id": "2721385e-5112-4bd0-a3da-deb1f793405a",
      "metadata": {
        "id": "2721385e-5112-4bd0-a3da-deb1f793405a"
      },
      "source": [
        "-----\n",
        "-----\n"
      ]
    },
    {
      "cell_type": "markdown",
      "id": "95ee26ad-cefa-4f9e-9e9f-6a635fb8900a",
      "metadata": {
        "id": "95ee26ad-cefa-4f9e-9e9f-6a635fb8900a"
      },
      "source": [
        "## Side quest challenge\n",
        "\n",
        "The side quest challenge is for extra credit. You can still get full credit for this activity even if you do not complete this challenge."
      ]
    },
    {
      "cell_type": "markdown",
      "id": "7699e2e7-deb7-411a-907b-e0b6760d3e14",
      "metadata": {
        "id": "7699e2e7-deb7-411a-907b-e0b6760d3e14"
      },
      "source": [
        "### 1. Which enslaver/captor had the highest difference between the total number of people who embarked and disembarked?\n",
        "\n",
        "**Hint:** You may need to [add a column](https://github.com/GCDigitalFellows/intro-pandas-dri-2022/blob/main/README.md#8-rename-select-drop-and-add-new-columns) to calculate the difference, use the [```.groupby```, ```.count()``` and ```.sort_values``` methods](https://github.com/GCDigitalFellows/intro-pandas-dri-2022/blob/main/README.md#9-sort-columns-groupby-columns--count-values) for this challenge."
      ]
    },
    {
      "cell_type": "code",
      "execution_count": 2,
      "id": "f2f16094-80b6-4767-ba8e-a6b0784a63b6",
      "metadata": {
        "id": "f2f16094-80b6-4767-ba8e-a6b0784a63b6",
        "colab": {
          "base_uri": "https://localhost:8080/"
        },
        "outputId": "61423658-c6b4-489d-a6ad-b5649c5cf540"
      },
      "outputs": [
        {
          "output_type": "stream",
          "name": "stdout",
          "text": [
            "Enslaver/Captor with the highest difference:\n",
            "captain's_name\n",
            "Smith, John    1143.0\n",
            "Name: difference, dtype: float64\n"
          ]
        }
      ],
      "source": [
        "import pandas as pd\n",
        "\n",
        "# Step 1: Load the dataset\n",
        "url = \"https://raw.githubusercontent.com/zmuhls/ccny-data-science/main/assets/datasets/Trans-Atlantic-Slave-Trade_Americas.csv\"\n",
        "data = pd.read_csv(url)\n",
        "\n",
        "# Step 2: Add a new column to calculate the difference between embarked and disembarked\n",
        "data['difference'] = data['total_embarked'] - data['total_disembarked']\n",
        "\n",
        "# Step 3: Group by the appropriate column (likely 'captain\\'s_name')\n",
        "# Replace 'captain\\'s_name' with another grouping column if needed\n",
        "grouped_data = data.groupby(\"captain's_name\")['difference'].sum()\n",
        "\n",
        "# Step 4: Sort the results to find the enslaver/captor with the highest difference\n",
        "sorted_data = grouped_data.sort_values(ascending=False)\n",
        "\n",
        "# Step 5: Display the top result\n",
        "print(\"Enslaver/Captor with the highest difference:\")\n",
        "print(sorted_data.head(1))\n"
      ]
    },
    {
      "cell_type": "markdown",
      "id": "8a7e104a",
      "metadata": {
        "id": "8a7e104a"
      },
      "source": [
        "**Double click to edit cell**     \n",
        "`Please type your answer here`\n",
        "</br>\n",
        "</br>\n",
        "</br>\n",
        "\n",
        "---\n"
      ]
    }
  ],
  "metadata": {
    "kernelspec": {
      "display_name": "Python 3 (ipykernel)",
      "language": "python",
      "name": "python3"
    },
    "language_info": {
      "codemirror_mode": {
        "name": "ipython",
        "version": 3
      },
      "file_extension": ".py",
      "mimetype": "text/x-python",
      "name": "python",
      "nbconvert_exporter": "python",
      "pygments_lexer": "ipython3",
      "version": "3.11.5"
    },
    "colab": {
      "provenance": []
    }
  },
  "nbformat": 4,
  "nbformat_minor": 5
}