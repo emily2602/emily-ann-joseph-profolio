{
  "nbformat": 4,
  "nbformat_minor": 0,
  "metadata": {
    "colab": {
      "provenance": []
    },
    "kernelspec": {
      "name": "python3",
      "display_name": "Python 3"
    },
    "language_info": {
      "name": "python"
    }
  },
  "cells": [
    {
      "cell_type": "markdown",
      "source": [
        "## ***For Loop in Python: A Simple Tutorial***\n",
        "\n",
        "# #1. What is a For Loop and Why Use It?\n",
        "\n",
        "A **for loop** in Python is a way to repeat instructions without having to write the same code again and again. You can use it to go through items in a list, characters in a word, or numbers in a range. Basically, it saves you time and makes your code way easier to read and understand.\n",
        "\n",
        "For example, if you want to print a list of names like Emily, Ann, and Joseph, you don’t need to write a `print()` statement for each name. A for loop can handle that for you in just a few lines of code."
      ],
      "metadata": {
        "id": "CxDJ3G6mLI92"
      }
    },
    {
      "cell_type": "markdown",
      "source": [
        "\n",
        "# **# 2. The Basics of a For Loop**\n",
        "\n",
        "### How It Works\n",
        "```python\n",
        "for variable in sequence:\n",
        "    # Code to run\n",
        "```\n",
        "- **`variable`**: This is like a temporary name for each item in the sequence.\n",
        "- **`sequence`**: The list, word, or range you want to go through.\n",
        "- **Indented Code**: Any code inside the loop has to be indented. That’s how Python knows it’s part of the loop.\n"
      ],
      "metadata": {
        "id": "nOMoFsHBLWck"
      }
    },
    {
      "cell_type": "markdown",
      "source": [
        "### ***Example: Printing Names***\n",
        "\n",
        "Here’s an example of a for loop:"
      ],
      "metadata": {
        "id": "6Rv6LxGKNHyU"
      }
    },
    {
      "cell_type": "code",
      "source": [
        "# Print each name in the list\n",
        "names = [\"Emily\", \"Ann\", \"Joseph\"]\n",
        "for name in names:\n",
        "    print(name)"
      ],
      "metadata": {
        "colab": {
          "base_uri": "https://localhost:8080/"
        },
        "id": "yVTChmnKNQvG",
        "outputId": "261b7ac7-074c-49ff-ac2a-e3716b1b8d57"
      },
      "execution_count": 2,
      "outputs": [
        {
          "output_type": "stream",
          "name": "stdout",
          "text": [
            "Emily\n",
            "Ann\n",
            "Joseph\n"
          ]
        }
      ]
    },
    {
      "cell_type": "markdown",
      "source": [
        "***explaination:***\n",
        "\n",
        "1.  names = [\"Emily\", \"Ann\", \"Joseph\"]: This is a list of names.\n",
        "\n",
        "1.   for name in names:: The loop takes each name from the list, one by one, and stores it in the variable name.\n",
        "\n",
        "1.  print(name): This prints the current name.\n",
        "\n",
        "\n",
        "\n"
      ],
      "metadata": {
        "id": "M3mIOXL4NW53"
      }
    },
    {
      "cell_type": "markdown",
      "source": [
        "# ***Code your own for loop:***"
      ],
      "metadata": {
        "id": "flhT5spgOXeI"
      }
    },
    {
      "cell_type": "code",
      "source": [
        "# Enter code here to try printing your own list of names"
      ],
      "metadata": {
        "id": "LwAEIT-kOjbw"
      },
      "execution_count": null,
      "outputs": []
    },
    {
      "cell_type": "markdown",
      "source": [
        "#  #3. Interactive Example: Write Your Own\n",
        "\n",
        " Try creating a for loop to print each letter in a word like \"Python\":"
      ],
      "metadata": {
        "id": "4tIyeUs1OnXu"
      }
    },
    {
      "cell_type": "code",
      "source": [
        "# Print each letter in the word \"Python\"\n",
        "word = \"Python\"\n",
        "for letter in word:\n",
        "    print(letter)"
      ],
      "metadata": {
        "colab": {
          "base_uri": "https://localhost:8080/"
        },
        "id": "8scGSkrYPLMn",
        "outputId": "39ce4232-cfc7-4775-b887-e11ff9092795"
      },
      "execution_count": 3,
      "outputs": [
        {
          "output_type": "stream",
          "name": "stdout",
          "text": [
            "P\n",
            "y\n",
            "t\n",
            "h\n",
            "o\n",
            "n\n"
          ]
        }
      ]
    },
    {
      "cell_type": "markdown",
      "source": [
        "***try it*** on your own now!!"
      ],
      "metadata": {
        "id": "ttpc-Y2JPcN3"
      }
    },
    {
      "cell_type": "code",
      "source": [
        "# Print each letter in the name"
      ],
      "metadata": {
        "id": "ToosmqWBPse_"
      },
      "execution_count": null,
      "outputs": []
    },
    {
      "cell_type": "markdown",
      "source": [
        "#  #4. A Real Example\n",
        "\n",
        "Task: Finding Squares of Numbers\n",
        "\n",
        "Let’s take it a step further. Here’s how you can use a for loop to find the square of numbers from 1 to 5:"
      ],
      "metadata": {
        "id": "9g2zvIpWQo_o"
      }
    },
    {
      "cell_type": "code",
      "source": [
        "# Find and print squares of numbers 1 to 5\n",
        "for number in range(1, 6):\n",
        "    square = number ** 2\n",
        "    print(f\"The square of {number} is {square}\")"
      ],
      "metadata": {
        "colab": {
          "base_uri": "https://localhost:8080/"
        },
        "id": "MNAAlj2bTiB1",
        "outputId": "3bb9e67d-c483-426b-8803-e4746619b3a7"
      },
      "execution_count": 4,
      "outputs": [
        {
          "output_type": "stream",
          "name": "stdout",
          "text": [
            "The square of 1 is 1\n",
            "The square of 2 is 4\n",
            "The square of 3 is 9\n",
            "The square of 4 is 16\n",
            "The square of 5 is 25\n"
          ]
        }
      ]
    },
    {
      "cell_type": "markdown",
      "source": [
        "**What’s Happening:**\n",
        "\n",
        "\n",
        "\n",
        "1.   range(1, 6): This generates numbers from 1 to 5 (6 is not included).\n",
        "\n",
        "1.   number: The loop takes each number, one at a time.\n",
        "2.   square = number ** 2: This calculates the square of the number.\n",
        "\n",
        "1.   print(f\"The square of {number} is {square}\"): This prints both the number and its square.\n",
        "\n",
        "\n",
        "\n"
      ],
      "metadata": {
        "id": "O-tlMl3nUMcf"
      }
    },
    {
      "cell_type": "markdown",
      "source": [
        "# #5. Fun Challenge: Modify This Code\n",
        "\n",
        "Try changing the range of numbers from 1 to 10. What happens? Can you adjust the code to find cubes instead of squares? Hint: Replace number ** 2 with number ** 3.\n",
        "\n",
        "**Enter your code below:**"
      ],
      "metadata": {
        "id": "CIfX9Fm8U6MR"
      }
    },
    {
      "cell_type": "code",
      "source": [],
      "metadata": {
        "id": "TKF82tfaWD0y"
      },
      "execution_count": 5,
      "outputs": []
    },
    {
      "cell_type": "markdown",
      "source": [
        "**Expected Output Example for Squares from 1 to 10:**"
      ],
      "metadata": {
        "id": "1DXJxyDTWgio"
      }
    },
    {
      "cell_type": "markdown",
      "source": [
        "\n",
        "\n",
        "```\n",
        "The square of 1 is 1\n",
        "The square of 2 is 4\n",
        "...\n",
        "The square of 10 is 100\n",
        "```\n",
        "\n"
      ],
      "metadata": {
        "id": "vT8gPjA8WVVN"
      }
    },
    {
      "cell_type": "markdown",
      "source": [
        "# ***Why Use For Loops?***\n",
        "\n",
        "For loops save time and make your code easier to manage. Instead of writing the same thing over and over, you can automate tasks and focus on solving problems. Whether you’re handling lists, analyzing data, or even creating something fun, for loops are an essential tool for any programmer.\n",
        "\n",
        "**If you have questions or need more examples, let me know!**"
      ],
      "metadata": {
        "id": "htxa4Xi9WwDA"
      }
    }
  ]
}